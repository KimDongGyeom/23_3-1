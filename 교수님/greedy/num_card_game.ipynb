{
 "cells": [
  {
   "cell_type": "code",
   "execution_count": 1,
   "metadata": {},
   "outputs": [
    {
     "name": "stdout",
     "output_type": "stream",
     "text": [
      "2\n"
     ]
    }
   ],
   "source": [
    "# n, m을 공백으로 구분하여 입력받기\n",
    "n, m = map(int, input().split())\n",
    "\n",
    "result = 0 # 각 행의 최소값 중 최대값을 저장하기 위한 변수\n",
    "for i in range(n) :\n",
    "    data = list(map(int, input().split()))\n",
    "    # 현재 행에서 가장 작은 수 찾기\n",
    "    min_value = min(data)\n",
    "    # 기존 최소값과 비교해 더 큰 값을 result에 기억한다.\n",
    "    result = result if result > min_value else min_value\n",
    "\n",
    "print(result)"
   ]
  }
 ],
 "metadata": {
  "kernelspec": {
   "display_name": "Python 3",
   "language": "python",
   "name": "python3"
  },
  "language_info": {
   "codemirror_mode": {
    "name": "ipython",
    "version": 3
   },
   "file_extension": ".py",
   "mimetype": "text/x-python",
   "name": "python",
   "nbconvert_exporter": "python",
   "pygments_lexer": "ipython3",
   "version": "3.10.undefined"
  },
  "orig_nbformat": 4
 },
 "nbformat": 4,
 "nbformat_minor": 2
}
