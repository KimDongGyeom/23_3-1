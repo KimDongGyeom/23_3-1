{
 "cells": [
  {
   "attachments": {},
   "cell_type": "markdown",
   "metadata": {},
   "source": [
    "### 왕실의 나이트\n",
    "* 나이트는 특정한 위치에서 다음과 같은 2가지 경우로 이동할 수 있다. \n",
    "1. 수평으로 두 칸 이동한 뒤에 수직으로 한 칸 이동하기\n",
    "2. 수직으로 두 칸 이동한 뒤에 수평으로 한 칸 이동하기\n",
    "\n",
    "            ```\n",
    "            입력 : d4\n",
    "            출력 : 8\n",
    "\n",
    "\n",
    "            입력 : a1\n",
    "            출력 : 2\n",
    "            ```"
   ]
  },
  {
   "cell_type": "code",
   "execution_count": 5,
   "metadata": {},
   "outputs": [
    {
     "name": "stdout",
     "output_type": "stream",
     "text": [
      "2\n"
     ]
    }
   ],
   "source": [
    "# 현재 나이트의 위치 입력받기\n",
    "input_data = input() # 1열 1행=>a1, 2열 3행=>b3\n",
    "row = int(input_data[1])\n",
    "col = (ord(input_data[0]) - ord('a')) + 1\n",
    "\n",
    "# 나이트가 이동할 수 있는 L자형 8가지 방향 정의\n",
    "steps = [(-2, -1), (-1, -2), (1, -2), (2, -1), (2, 1), (1, 2), (-1, 2), (-2, 1)]\n",
    "\n",
    "# 8가지 방향에 대해 각각 그 위치로 이동이 가능한지를 체크하자.\n",
    "count = 0\n",
    "for step in steps: \n",
    "    # 첫번째 루프 : step = (-2, 1)\n",
    "    # 두번째 루프 : step = (-1, -2)\n",
    "    # ...\n",
    "    # 여덟번째 루프 : step = (-2, 1)\n",
    "\n",
    "    next_row = row + step[0] \n",
    "    next_col = col + step[1]\n",
    "    # 이 next_row가 1~8 사이이고 nex_col이 1에서 8사이이면 count를 1증가 시키면 된다. \n",
    "    if 1<= next_row <=8 and 1 <= next_col <= 8 :\n",
    "    #if next_row >= 1 and next_row<=8 and next_col >=1 and next_col <= 8 : \n",
    "        count += 1\n",
    "\n",
    "print(count)"
   ]
  }
 ],
 "metadata": {
  "kernelspec": {
   "display_name": "Python 3",
   "language": "python",
   "name": "python3"
  },
  "language_info": {
   "codemirror_mode": {
    "name": "ipython",
    "version": 3
   },
   "file_extension": ".py",
   "mimetype": "text/x-python",
   "name": "python",
   "nbconvert_exporter": "python",
   "pygments_lexer": "ipython3",
   "version": "3.10.-1"
  },
  "orig_nbformat": 4
 },
 "nbformat": 4,
 "nbformat_minor": 2
}
