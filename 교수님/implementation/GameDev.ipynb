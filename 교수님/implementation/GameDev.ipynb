{
 "cells": [
  {
   "attachments": {},
   "cell_type": "markdown",
   "metadata": {},
   "source": [
    "### 게임 개발\n",
    "* 캐릭터의 움직임을 설정하기 위해 정해 놓은 메뉴얼은 아래와 같다. \n",
    "  * 1. 현재 위치에서 현재 방향을 기준으로 왼쪽방향부터 차례대로 갈 곳을 정한다. \n",
    "  * 2. 캐릭터의 바로 왼쪽 방향에 아직 가보지 않은 칸이 존재한다면, 왼쪽 방향으로 회전한 다음 왼쪽으로 한 칸을 전진한다. 왼쪽 방향에 가보지 않은 칸이 없다면, 왼쪽 방향으로 회전만 수행하고 1단계로 돌아간다. \n",
    "  * 3. 만약 네 방향 모두 이미 가본 칸이거나 바다로 되어 있는 칸인 경우에는, 바라보는 방향을 유지한 채로 한 칸 뒤로 가고 1단계로 돌아간다. 단, 이때 뒤쪽 방향이 바다인 칸이라 뒤로 갈 수 없는 경우에는 움직임을 멈춘다. "
   ]
  },
  {
   "attachments": {},
   "cell_type": "markdown",
   "metadata": {},
   "source": [
    "### 입력조건\n",
    "* 첫째 줄에 맵의 세로 크기 N과 가로 크기 M을 공백으로 구분하여 입력한다. ($3 \\le N, M \\le 50 $)\n",
    "* 둘째 주레 게임 캐릭터가 있는 칸의 좌표 (A,B)와 바라보는 방향 d가 각각 서로 공백으로 구분하여 주어진다. 방향 d의 값으로는 다음과 가이 4가지가 존재한다. \n",
    "  * - 0 : 북쪽\n",
    "  * - 1 : 동쪽\n",
    "  * - 2 : 남쪽\n",
    "  * - 3 : 서쪽\n",
    "* 셋째 줄부터 맵이 육지인지 바다인지에 대한 정보가 주어진다. N개의 줄에 맵의 상태가 북쪽부터 남쪽 순서대로, 각 줄의 데이터는 서쪽부터 동쪽 순서대로 주어진다. 맵의 외곽은 항상 바다로 되어 있다. \n",
    "  * - 0 : 육지\n",
    "  * - 1 : 바다\n",
    "* 처음에 게임 캐릭터가 위치한 칸의 상태는 항상 육지이다. "
   ]
  },
  {
   "attachments": {},
   "cell_type": "markdown",
   "metadata": {},
   "source": [
    "### 출력조건\n",
    "* 첫째 줄에 이동을 마친 후 캐릭터가 방문한 칸의 수를 출력한다. "
   ]
  },
  {
   "attachments": {},
   "cell_type": "markdown",
   "metadata": {},
   "source": [
    "#### 입력예시\n",
    "```\n",
    "4 4             # 4 x 4의 맵을 생성\n",
    "1 1 0           # (1,1)에 북쪽을 바라보고 서 있는 캐릭터\n",
    "1 1 1 1         # 첫 줄은 모두 바다\n",
    "1 0 0 1         # 둘째 줄은 바다/육지/육지/바다\n",
    "1 1 0 1         # 셋째 줄은 바다/바다/육지/바다\n",
    "1 1 1 1         # 넷째 줄은 모두 바다  \n",
    "```"
   ]
  },
  {
   "cell_type": "markdown",
   "metadata": {},
   "source": [
    "#### 출력예시\n",
    "```\n",
    "3\n",
    "```"
   ]
  },
  {
   "cell_type": "code",
   "execution_count": 3,
   "metadata": {},
   "outputs": [
    {
     "name": "stdout",
     "output_type": "stream",
     "text": [
      "4 4\n",
      "3\n"
     ]
    }
   ],
   "source": [
    "# n, m 을 입력받기\n",
    "n, m = map(int, input().split())\n",
    "print(n, m)\n",
    "# 방문한 위치를 저장하기 위한 맵을 생성하고 0으로 초기화, tracking_history\n",
    "#tracking_history = [0]*m   # [0, 0, 0, 0, 0, 0, 0] # m개의 0으로 구성된 리스트\n",
    "tracking_history = [[0]*m for _ in range(n)] # [[0,0,0,0...,0], [0,0,0,0,...,0], ...., [0,0,0,0,...,0]]\n",
    "\n",
    "# 캐릭터가 현재 위치하고 있는 좌표와 방향을 입력받기\n",
    "# row, col, direction \n",
    "row, col, direction = map(int, input().split())\n",
    "\n",
    "# 위에서 주어진 캐릭터의 현재 위치를 방문한 것으로 표시\n",
    "tracking_history[row][col] = 1\n",
    "\n",
    "# 전체 맵 정보를 입력받기 : game_map\n",
    "game_map = []\n",
    "for i in range(n) :\n",
    "    game_map.append(list(map(int, input().split())))\n",
    "\n",
    "# 북, 동, 남, 서 방향 이동을 위한 델타 값을 리스트로 저장\n",
    "d_row = [-1, 0, 1, 0]\n",
    "d_col = [0, 1, 0, -1]\n",
    "\n",
    "# 왼쪽으로 회전할 때마다 direction을 값을 적절히 변경하는 함수를 구현\n",
    "def turn_left() :\n",
    "    global direction\n",
    "    direction -= 1\n",
    "    if direction < 0 :\n",
    "        direction = 3\n",
    "        \n",
    "# 시뮬레이션 \n",
    "count = 1 # 캐릭터가 방문한 칸의 갯수를 유지하는 변수\n",
    "turn_count = 0 # 회전한 횟수를 유지하는 변수\n",
    "\n",
    "while True : # 무한반복하되, 반복 로직안에서 반복의 종료여부(더 이상 갈 곳이 없다)를 결정.\n",
    "    # 왼쪽으로 회전\n",
    "    turn_left()\n",
    "    # 회전 횟수 turn_count를 1증가 시킨다. \n",
    "    turn_count += 1\n",
    "    # 현재 바라보는 방향으로 이동할 수 있으면 : 방문하지 않았고 육지다라는 의미\n",
    "            # 그 방향으로 이동하고, count를 1 증가 시키고, turn_count는 0으로 초기화 하고\n",
    "        # 반복의 처음부터 반복. continue \n",
    "    n_row = row + d_row[direction]\n",
    "    n_col = col + d_col[direction]\n",
    "    if tracking_history[n_row][n_col] == 0 and game_map[n_row][n_col] == 0 :\n",
    "        tracking_history[n_row][n_col] = 1\n",
    "        row, col = n_row, n_col\n",
    "        count += 1\n",
    "        turn_count = 0\n",
    "        continue\n",
    "\n",
    "    # 실행흐림이 여기까지 왔다는 것은 무엇을 의미?: 현재 바라보는 방향으로 이동할 수 없음.\n",
    "    # 4번 다 돌았는데도 여기까지 왔다면, \n",
    "    if turn_count == 4 :\n",
    "        n_row = row - d_row[direction] \n",
    "        n_col = col - d_col[direction]\n",
    "        # 현재 바라보는 방향을 유지한체 뒤로 한칸 이동하고(이동할 수 있다면) \n",
    "        # 육지이면 이동할 수 있다. \n",
    "        if game_map[n_row][n_col] == 0 : # 육지라면\n",
    "            # turn_count = 0으로 초기화한다. \n",
    "            row, col = n_row, n_col\n",
    "            turn_count = 0\n",
    "        else : # 바다야 \n",
    "        # 만약에 뒤로 이동할 수 없다면 (바다야) 프로그램 종료: break\n",
    "            break\n",
    "\n",
    "# 반복문을 빠져 나오가 나서 변수 count가 가지는 값은 방문한 칸의 갯수\n",
    "# 따라서, count를 출력한다. \n",
    "print(count)\n",
    "\n"
   ]
  }
 ],
 "metadata": {
  "kernelspec": {
   "display_name": "Python 3",
   "language": "python",
   "name": "python3"
  },
  "language_info": {
   "codemirror_mode": {
    "name": "ipython",
    "version": 3
   },
   "file_extension": ".py",
   "mimetype": "text/x-python",
   "name": "python",
   "nbconvert_exporter": "python",
   "pygments_lexer": "ipython3",
   "version": "3.10.undefined"
  },
  "orig_nbformat": 4
 },
 "nbformat": 4,
 "nbformat_minor": 2
}
