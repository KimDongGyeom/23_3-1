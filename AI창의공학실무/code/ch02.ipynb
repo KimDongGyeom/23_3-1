{
 "cells": [
  {
   "cell_type": "code",
   "execution_count": null,
   "metadata": {},
   "outputs": [],
   "source": [
    "\n",
    "1. n, m, k 입력받아 저장\n",
    "2. n개의 수를 입력받아 리스트에 저장\n",
    "3. 리스트를 정렬해서 가장 큰 수와 두 번째 큰 수를 각각 first, second에 저장\n",
    "4. m번 더하기 위해 아래를 반복\n",
    "  - m이 0이면 반복종료\n",
    "  - 가장 큰 수를 k번 더하고 : 더할때 m을 1씩 감소. m이 0이면 반복종료\n",
    "  - m이 0이면 반복종료\n",
    "  - 두 번째 큰 수를 1번 더한다. : m을 1 감소\n",
    "*/\n",
    "# n, m, k를 공백으로 구분하여 입력받기\n",
    "n, m, k = map(int, input().split()) # 1 2 3\n",
    "\n",
    "# n개의 수를 공백으로 구분하여 입력받고, 입력받은 값을 int로 변환해서 리스트로 생성\n",
    "data = list(map(int, input().split()))\n",
    "data.sort() # 아무 옵션없으면 오름차순\n",
    "\n",
    "first = data[n-1]; # 가장 큰수\n",
    "second = data[n-2]; # 두번째 큰수\n",
    "\n",
    "result = 0;\n",
    "\n",
    "while true :\n",
    "    # 가장 큰 수 K번 더하라\n",
    "    for i in range(k) :\n",
    "        if m == 0 :\n",
    "            break\n",
    "            result += first\n",
    "            m -= 1\n",
    "\n",
    "        if m == 0 :\n",
    "            break\n",
    "        result += second\n",
    "        m -= 1\n",
    "\n",
    "print(result)"
   ]
  }
 ],
 "metadata": {
  "language_info": {
   "name": "python"
  },
  "orig_nbformat": 4
 },
 "nbformat": 4,
 "nbformat_minor": 2
}
