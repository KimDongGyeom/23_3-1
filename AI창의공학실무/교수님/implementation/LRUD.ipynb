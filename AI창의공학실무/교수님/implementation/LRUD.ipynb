{
 "cells": [
  {
   "attachments": {},
   "cell_type": "markdown",
   "metadata": {},
   "source": [
    "## 상하좌우\n",
    "* NxN 크기의 정사각형 위에 여행가 A가 서있다. \n",
    "* 가장 왼쪽 위 좌표는 (1,1)\n",
    "* 가장 오른쪽 아래 좌표는 (N,N)\n",
    "* A는 상, 하, 좌, 우 방향으로 이동할 수 있다. \n",
    "* 시작 좌표는 항상 (1, 1)\n",
    "* 여행 계획서가 주어졌을 때 그에 따라 이동한 후 A가 최종적으로 위치하는 좌표를 출력\n",
    "  * NxN 크기의 정사각형 공간을 벗어나는 움직임은 무시한다. \n",
    "* 입력예시\n",
    "```\n",
    "        5\n",
    "        R R R U D D\n",
    "```\n",
    "* 출력예시\n",
    "```\n",
    "        3 4\n",
    "```\n"
   ]
  },
  {
   "cell_type": "code",
   "execution_count": 1,
   "metadata": {},
   "outputs": [
    {
     "name": "stdout",
     "output_type": "stream",
     "text": [
      "2 4\n"
     ]
    }
   ],
   "source": [
    "# n을 입력받기\n",
    "n = int(input())\n",
    "# 시작위치 설정(row=1, col=1)\n",
    "row, col = 1, 1\n",
    "# 여행계획(R R R U D D)을 입력받아 변수 plan 저장\n",
    "plan = input().split()\n",
    "# L이면, row += 0, col += -1\n",
    "# R이면, row += 0, col += 1\n",
    "# U이면, row += -1, col += 0\n",
    "# D이면, row += 1, col += 0\n",
    "# L, R, U, D에 따라 행과 열을 어떻게 증감시켜야 되는지를 리스트에 저장해놓자. \n",
    "d_row = [0, 0, -1, 1]\n",
    "d_col = [-1, 1, 0, 0]\n",
    "\n",
    "move_types = ['L', 'R', 'U', 'D']\n",
    "\n",
    "# plan의 각 원소를 살펴보며서, 그에 따라 row, col을 변경시켜주면 된다. \n",
    "for p in plan :\n",
    "    # p가 L, R, U, D 중에 뭔지 보고 그에 맞은 d_row, d_col의 원소값을 각각 row, col에 더해주면된다. \n",
    "\n",
    "    # if p == 'L' :\n",
    "    #     row += d_row[0]\n",
    "    #     col += d_col[0]\n",
    "    # elif p == 'R' :\n",
    "    #     row += d_row[1]\n",
    "    #     col += d_col[1]\n",
    "    # ....\n",
    "    for i in range(len(move_types)) :\n",
    "        if p == move_types[i] :\n",
    "            tmp_row = row + d_row[i]\n",
    "            tmp_col = col + d_col[i]\n",
    "            break\n",
    "    # tmp_row와 tmp_col이 NxN 범위를 벗어나는지 여부를 체크한다.\n",
    "    # 벗어나지 않으면 tmp_row와 tmp_col을 각각 row, col에 저장하고\n",
    "    # 벗어나면 무시. \n",
    "    if tmp_row < 1 or tmp_row > n or tmp_col < 1 or tmp_col > n :\n",
    "        continue\n",
    "    # 실행흐림이 여기까지 왔다는 것은 벗어나지 않는다. \n",
    "    row, col = tmp_row, tmp_col\n",
    "print(row, col)\n"
   ]
  }
 ],
 "metadata": {
  "kernelspec": {
   "display_name": "Python 3",
   "language": "python",
   "name": "python3"
  },
  "language_info": {
   "codemirror_mode": {
    "name": "ipython",
    "version": 3
   },
   "file_extension": ".py",
   "mimetype": "text/x-python",
   "name": "python",
   "nbconvert_exporter": "python",
   "pygments_lexer": "ipython3",
   "version": "3.10.undefined"
  },
  "orig_nbformat": 4
 },
 "nbformat": 4,
 "nbformat_minor": 2
}
