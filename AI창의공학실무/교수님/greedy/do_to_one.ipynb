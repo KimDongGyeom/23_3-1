{
 "cells": [
  {
   "cell_type": "code",
   "execution_count": 3,
   "metadata": {},
   "outputs": [
    {
     "name": "stdout",
     "output_type": "stream",
     "text": [
      "37\n"
     ]
    }
   ],
   "source": [
    "n, k = map(int, input().split())\n",
    "count = 0\n",
    "\n",
    "# n이 k이상이면 1빼기와 k로 계속 나누기 반복\n",
    "while n >= k :\n",
    "    # n이 k로 나누어 떨어지지 않는다면 n에서 1씩 빼기\n",
    "    while n%k :\n",
    "        n -= 1\n",
    "        count += 1\n",
    "    \n",
    "    n //= k \n",
    "    count += 1\n",
    "\n",
    "# count += n-1\n",
    "while n > 1 :\n",
    "    n -= 1\n",
    "    count += 1\n",
    "\n",
    "\n",
    "print(count)"
   ]
  }
 ],
 "metadata": {
  "kernelspec": {
   "display_name": "Python 3",
   "language": "python",
   "name": "python3"
  },
  "language_info": {
   "codemirror_mode": {
    "name": "ipython",
    "version": 3
   },
   "file_extension": ".py",
   "mimetype": "text/x-python",
   "name": "python",
   "nbconvert_exporter": "python",
   "pygments_lexer": "ipython3",
   "version": "3.10.undefined"
  },
  "orig_nbformat": 4
 },
 "nbformat": 4,
 "nbformat_minor": 2
}
